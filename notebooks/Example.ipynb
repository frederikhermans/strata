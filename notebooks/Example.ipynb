{
 "metadata": {
  "name": "",
  "signature": "sha256:50577c7e5d427225691ff947fc1e83f3480574c0140a8311971373a06270779b"
 },
 "nbformat": 3,
 "nbformat_minor": 0,
 "worksheets": [
  {
   "cells": [
    {
     "cell_type": "code",
     "collapsed": false,
     "input": [
      "%matplotlib inline\n",
      "\n",
      "import matplotlib.pyplot as plt\n",
      "import numpy as np\n",
      "import scipy.misc\n",
      "\n",
      "import strata"
     ],
     "language": "python",
     "metadata": {},
     "outputs": [],
     "prompt_number": 1
    },
    {
     "cell_type": "code",
     "collapsed": false,
     "input": [
      "txpayload = strata.random_payload(seed=2610)\n",
      "code = strata.Block()\n",
      "code.encode(txpayload)\n",
      "img = code.render()\n",
      "\n",
      "plt.imshow(img, interpolation='nearest', cmap=plt.cm.Greys_r)\n",
      "plt.imsave('example.png', scipy.misc.imresize(img, (256, 256), interp='nearest'), cmap=plt.cm.Greys_r)"
     ],
     "language": "python",
     "metadata": {},
     "outputs": [
      {
       "metadata": {},
       "output_type": "display_data",
       "png": "[encoded data removed]",
       "text": [
        "<matplotlib.figure.Figure at 0x10c80c890>"
       ]
      }
     ],
     "prompt_number": 2
    },
    {
     "cell_type": "code",
     "collapsed": false,
     "input": [
      "rxpayload = code.decode(img)\n",
      "print 'All bits decoded correctly?', txpayload == rxpayload\n",
      "print 'Bit errors:', (np.array(txpayload) != np.array(rxpayload)).sum()"
     ],
     "language": "python",
     "metadata": {},
     "outputs": [
      {
       "output_type": "stream",
       "stream": "stdout",
       "text": [
        "WARNING: Ambiguous block:\n",
        "[[1 1 1 1]\n",
        " [1 1 1 1]\n",
        " [1 0 1 1]\n",
        " [1 0 1 1]]\n",
        "---\n",
        "WARNING: Ambiguous block:\n",
        "[[0 0 1 0]\n",
        " [0 0 0 0]\n",
        " [0 0 0 0]\n",
        " [0 0 0 0]]\n",
        "---\n",
        "WARNING: Ambiguous block:\n",
        "[[0 0 0 0]\n",
        " [0 0 0 0]\n",
        " [1 1 1 1]\n",
        " [1 1 1 1]]\n",
        "---\n",
        "WARNING: Ambiguous block:"
       ]
      },
      {
       "output_type": "stream",
       "stream": "stdout",
       "text": [
        "\n",
        "[[0 1 0 0]\n",
        " [0 0 0 0]\n",
        " [0 0 0 0]\n",
        " [0 0 0 0]]\n",
        "---\n",
        "All bits decoded correctly? False\n",
        "Bit errors: 3\n"
       ]
      }
     ],
     "prompt_number": 3
    },
    {
     "cell_type": "code",
     "collapsed": false,
     "input": [],
     "language": "python",
     "metadata": {},
     "outputs": []
    }
   ],
   "metadata": {}
  }
 ]
}